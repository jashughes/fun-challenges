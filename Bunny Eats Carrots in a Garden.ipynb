{
 "cells": [
  {
   "cell_type": "markdown",
   "metadata": {},
   "source": [
    "# Problem Statement:\n",
    "\n",
    "Write a function that takes the input, gives the output, and meets the conditions below: \n",
    "\n",
    "- Input: An N x M matrix of a garden. Each cell contains an integer representing the number of carrots in that part of the garden.\n",
    "\n",
    "- Output: The number of carrots Bunny eats before falling asleep.\n",
    "\n",
    "- Conditions: Bunny starts in the center of the garden. If there are more than one center cell, Bunny starts in the cell with the largest number of carrots. There will never be a tie for the highest number of carrots in a center cell. Bunny eats all of the carrots in his cell, then looks left, right, up, and down for more carrots. Bunny always moves to the adjacent cell with the highest carrot count. If there are no adjacent cells with carrots, Bunny falls asleep.\n",
    "\n",
    "Example test case in python: \n",
    "garden1 = [[5, 7, 8, 6, 3],\n",
    "               [0, 0, 7, 0, 4],\n",
    "               [4, 6, 3, 4, 9],\n",
    "               [3, 1, 0, 5, 8]]\n",
    "\n",
    "eat(garden1)\n",
    "27  # starts at garden[1][2] = 7, eats 7 carrots, looks at the 8, 0, 3, and 0 adjacent, moves to the 8, repeat.\n",
    "\n"
   ]
  },
  {
   "cell_type": "markdown",
   "metadata": {},
   "source": [
    "# Approach Overview:\n",
    "\n",
    "There's a few different challenges going on in this game. First, we need to identify the center of the board, which we will do with a function that we will call once. Second, we need to look at the carrot counts for all the squares around Bunny. This is a maximum of 4 cells, for central squares, or a minimum of 0 cells, for empty gardens (input garden = [ ]). Third, we need to update the garden with the carrots as Bunny moves around, and update the carrot count as he eats the carrots.\n",
    "\n",
    "I solved this problem with 4 functions. The function find_center() finds the center. The function compare_coordinates() determines the direction to move, and calls another function, check_positions() to make sure those directions are within the garden. The final eat() function then calls find_center() and compare_coordinates, checking at each loop to make sure the bunny is awake."
   ]
  },
  {
   "cell_type": "markdown",
   "metadata": {},
   "source": [
    "# Handling Edge Cases:\n",
    "- Empty garden will throw an error (cannot index with find_center()) however one more line could be added to handle this exception.\n",
    "- Negative carrots should be handled fine.\n",
    "- Non-numeric values: will throw an error.\n",
    "- Rows with different numbers of cells compared to the first row: this currently cannot be handled, but the problem statement excludes this scenario.\n",
    "- Ties: Bunny will select the highest carrot in this order of priority: top, bottom, left, right. No information on priorities was provided, but the bunny needs to decide somehow."
   ]
  },
  {
   "cell_type": "markdown",
   "metadata": {},
   "source": [
    "# Complexity:\n",
    "- Should scale linearly with respect to the total number of elements in the MxN array.\n",
    "- find_center() is long in terms of number of lines of code, but is just making comparisons between variables and doing simple math, and therefore scales with O(1)\n",
    "- check_positions performs similar operations also scales with O(1).\n",
    "- compare_coordinates() does have a for loop, however it only cycles between the four possible directions and therefore is O(1).\n",
    "- eat() contains a while loop that checks to make sure the bunny is still awake. Since the bunny's awake status depends on the number of edible squares, which could scale with the number of elements in the array, this function will scale linearly with respect to the number of elements in the array."
   ]
  },
  {
   "cell_type": "code",
   "execution_count": 101,
   "metadata": {},
   "outputs": [],
   "source": [
    "def find_center(garden_input):\n",
    "    # This function takes an N x M matrix and identifies the indices of the starting cell.\n",
    "    # This there are multiple centers (i.e., even number of rows and/or columns), this function\n",
    "    # selects the cell with the most carrots.\n",
    "    \n",
    "    N_rows = len(garden_input)\n",
    "    M_cols = len(garden_input[0])\n",
    "    \n",
    "    # If there is a center row and a center column, it is easy \n",
    "    if N_rows % 2 == 1:\n",
    "        center_row = N_rows // 2\n",
    "        \n",
    "        if M_cols % 2 == 1:\n",
    "            center_col = M_cols // 2\n",
    "        \n",
    "        # Center row exists, but there are odd columns:\n",
    "        # Identify central column with highest carrot count in that row\n",
    "        else:\n",
    "            carrot_count_left = garden_input[center_row][M_cols // 2 - 1]\n",
    "            carrot_count_right = garden_input[center_row][M_cols // 2]\n",
    "            \n",
    "            #Return indices of highest carrot cell. As per problem statement, there should not be ties.\n",
    "            if carrot_count_left > carrot_count_right:\n",
    "                center_col = M_cols // 2\n",
    "            else:\n",
    "                center_col = M_cols // 2\n",
    "    else:\n",
    "        # If center column exists, but there are an even number of rows: \n",
    "        # Identify central row with highest carrot count\n",
    "        if M_cols % 2 == 1:\n",
    "            center_col = M_cols // 2\n",
    "            \n",
    "            carrot_count_top = garden_input[N_rows // 2 - 1][center_col]\n",
    "            carrot_count_bottom = garden_input[N_rows // 2][center_col]\n",
    "            \n",
    "            if carrot_count_top > carrot_count_bottom:\n",
    "                center_row = N_rows // 2 - 1\n",
    "            else:\n",
    "                center_row = N_rows // 2\n",
    "        \n",
    "        #Even number of both rows and columns, find highest of the four cells\n",
    "        else:\n",
    "            #Define center square\n",
    "            center_square = [garden_input[N_rows // 2 - 1][M_cols // 2 - 1],\n",
    "                garden_input[N_rows // 2 - 1][M_cols // 2],\n",
    "                garden_input[N_rows // 2][M_cols // 2 -1],\n",
    "                garden_input[N_rows // 2][M_cols // 2]]\n",
    "            \n",
    "            #Identify max\n",
    "            carrot_max = max(center_square)\n",
    "            max_index = center_square.index(carrot_max)\n",
    "            \n",
    "            #Retrieve coordinates from the above values:\n",
    "            center_row = max_index // 2 + (N_rows // 2 - 1)\n",
    "            center_col = max_index % 2 + (M_cols // 2 - 1)\n",
    "    return(center_row, center_col)\n",
    "            \n",
    "        \n",
    "            "
   ]
  },
  {
   "cell_type": "code",
   "execution_count": 216,
   "metadata": {},
   "outputs": [],
   "source": [
    "def check_positions(coordinate_list, garden):\n",
    "    #Returns False if coordinates are not valid\n",
    "    \n",
    "    #Values less than zero will be off the grid\n",
    "    if min(coordinate_list) < 0:\n",
    "        return False\n",
    "    \n",
    "    #Row values greater than the number of rows will be off the grid\n",
    "    elif coordinate_list[0] > len(garden) - 1:\n",
    "        return False\n",
    "    #Col values greater than the number of cols will be off the grid\n",
    "    elif coordinate_list[1] > len(garden[0]) - 1:\n",
    "        return False\n",
    "    else:\n",
    "        return True"
   ]
  },
  {
   "cell_type": "code",
   "execution_count": 217,
   "metadata": {},
   "outputs": [],
   "source": [
    "def compare_coordinates(garden,N_position, M_position):\n",
    "    # Takes the current position of bunny and looks at each of the four possible directions.\n",
    "    # Returns the direction to travel.\n",
    "    \n",
    "    #Define directions\n",
    "    top = [N_position - 1, M_position]\n",
    "    bottom = [N_position + 1, M_position]\n",
    "    left = [N_position, M_position - 1]\n",
    "    right = [N_position, M_position + 1]\n",
    "    \n",
    "    #Check directions for being viable, using function defined above. \n",
    "    #Then determine the number of carrots and the direction to move.\n",
    "    maximum_carrots = 0\n",
    "    current_carrots = 0\n",
    "    best_direction = []\n",
    "    \n",
    "    \n",
    "    for direction in (top, bottom, left, right):\n",
    "        if check_positions(direction, garden):\n",
    "            current_carrots = garden[direction[0]][direction[1]]\n",
    "\n",
    "            if current_carrots > maximum_carrots:\n",
    "                maximum_carrots = current_carrots\n",
    "                best_direction = direction\n",
    "    \n",
    "    #If there are no carrots to go to, return instructions to sleep,\n",
    "    #Else, return best direction and number of carrots.\n",
    "    \n",
    "    if best_direction == []:\n",
    "        return False, 0\n",
    "    \n",
    "    else:\n",
    "        return best_direction, maximum_carrots"
   ]
  },
  {
   "cell_type": "code",
   "execution_count": 225,
   "metadata": {},
   "outputs": [],
   "source": [
    "def eat(garden):\n",
    "    \n",
    "    #The bunny is awake to start\n",
    "    awake_status = True\n",
    "    \n",
    "    #Find the center\n",
    "    starting_N, starting_M = find_center(garden)\n",
    "    \n",
    "    \n",
    "    #The bunny consumes the carrots at the starting position:\n",
    "    carrot_total = int(garden[starting_N][starting_M])\n",
    "    garden[starting_N][starting_M] = 0\n",
    "    \n",
    "    \n",
    "    while awake_status:\n",
    "        \n",
    "        #The bunny looks around for carrots\n",
    "        direction, carrots_consumed = compare_coordinates(garden, starting_N, starting_M)\n",
    "        \n",
    "        #If there's no carrots, bunny falls asleep\n",
    "        if not direction:\n",
    "            awake_status = False\n",
    "\n",
    "        \n",
    "        #Otherwise bunny eats the carrots and keeps going\n",
    "        else:\n",
    "            \n",
    "            #Bunny moves\n",
    "            starting_N = direction[0]\n",
    "            starting_M = direction[1]\n",
    "            \n",
    "            # Eat the carrots on the square.\n",
    "            garden[starting_N][starting_M] = 0\n",
    "            carrot_total += carrots_consumed\n",
    "            \n",
    "    return carrot_total\n",
    "            "
   ]
  },
  {
   "cell_type": "markdown",
   "metadata": {},
   "source": [
    "# Test Function\n",
    "The provided sample input is included below for convenience."
   ]
  },
  {
   "cell_type": "code",
   "execution_count": 228,
   "metadata": {},
   "outputs": [],
   "source": [
    "garden1 = [[5, 0, 8, 6, 3], [0, 0, 7, 0, 4], [4, 6, 3, 4, 9], [3, 1, 0, 5, 8]]"
   ]
  },
  {
   "cell_type": "code",
   "execution_count": 229,
   "metadata": {},
   "outputs": [
    {
     "data": {
      "text/plain": [
       "54"
      ]
     },
     "execution_count": 229,
     "metadata": {},
     "output_type": "execute_result"
    }
   ],
   "source": [
    "eat(garden1)"
   ]
  }
 ],
 "metadata": {
  "kernelspec": {
   "display_name": "Python [conda env:insight]",
   "language": "python",
   "name": "conda-env-insight-py"
  },
  "language_info": {
   "codemirror_mode": {
    "name": "ipython",
    "version": 3
   },
   "file_extension": ".py",
   "mimetype": "text/x-python",
   "name": "python",
   "nbconvert_exporter": "python",
   "pygments_lexer": "ipython3",
   "version": "3.6.5"
  }
 },
 "nbformat": 4,
 "nbformat_minor": 2
}
